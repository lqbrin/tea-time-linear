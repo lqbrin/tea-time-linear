{
 "cells": [
  {
   "cell_type": "code",
   "execution_count": 1,
   "metadata": {},
   "outputs": [],
   "source": [
    "import wave\n",
    "import numpy as np\n",
    "import math\n",
    "import random\n",
    "\n",
    "def getData(file):\n",
    "    if file.getnchannels() == 2:\n",
    "        my_bytes = file.readframes(1)\n",
    "        left = int.from_bytes(my_bytes[:file.getsampwidth()], byteorder='little', signed=True)\n",
    "        right = int.from_bytes(my_bytes[file.getsampwidth():], byteorder='little', signed=True)\n",
    "        return (left/2) + (right/2)\n",
    "    else:\n",
    "        return int.from_bytes(file.readframes(1), byteorder='little', signed=True)"
   ]
  },
  {
   "cell_type": "code",
   "execution_count": 2,
   "metadata": {
    "scrolled": true
   },
   "outputs": [],
   "source": [
    "# Read WAV file\n",
    "def readWav(bn):\n",
    "    w = wave.open(bn+\".wav\",'rb')\n",
    "    parIn = w.getparams()\n",
    "    dataIn = []\n",
    "    for i in range(parIn.nframes):\n",
    "        dataIn.append(getData(w))\n",
    "    w.close()\n",
    "    return {'params':parIn, 'data':dataIn}"
   ]
  },
  {
   "cell_type": "code",
   "execution_count": 3,
   "metadata": {},
   "outputs": [],
   "source": [
    "# Write WAV audio file\n",
    "# Export amplitudes to text file\n",
    "def writeWav(wd,bn):\n",
    "    w = wave.open(bn+\".wav\",\"wb\")\n",
    "    t = open(bn+\".txt\",\"w\")\n",
    "    w.setparams(wd['params'])\n",
    "    for i in range(len(wd['data'])):\n",
    "        o = int(wd['data'][i])\n",
    "        bts = o.to_bytes(wd['params'].sampwidth,\"little\",signed=True)\n",
    "        w.writeframes(bts+bts)\n",
    "        t.write(str(o)+\"\\n\")\n",
    "    w.close()\n",
    "    t.close()"
   ]
  },
  {
   "cell_type": "code",
   "execution_count": 4,
   "metadata": {},
   "outputs": [],
   "source": [
    "# Write array to file\n",
    "def writeArray(data,bn):\n",
    "    t = open(bn+\".txt\",\"w\")\n",
    "    for i in range(len(data)):\n",
    "        t.write(str(i)+\",\"+str(data[i])+\"\\n\")\n",
    "    t.close()"
   ]
  },
  {
   "cell_type": "code",
   "execution_count": 5,
   "metadata": {},
   "outputs": [],
   "source": [
    "# Write Fourier Coefficients to file\n",
    "def writeCoeffs(coeffs,bn):\n",
    "    t = open(bn+\".txt\",\"w\")\n",
    "    t.write(\"0,\"+str(coeffs[0])+\",amplitude,frequency (Hz)\\n\")\n",
    "    for i in range(1,len(coeffs)):\n",
    "        t.write(str(i)+\",\"+str(coeffs[i])+\",\"+str(abs(coeffs[i]))+\",\"+str(0.5*44100*i/coeffs[0])+\"\\n\")\n",
    "    t.close()"
   ]
  },
  {
   "cell_type": "code",
   "execution_count": 6,
   "metadata": {},
   "outputs": [],
   "source": [
    "# Detect zeros\n",
    "def zeros(wavdata):\n",
    "    z = []\n",
    "    d = wavdata['data']\n",
    "    for i in range(len(d)-1):\n",
    "        if d[i]*d[i+1]<0:\n",
    "            z.append(i)\n",
    "    return z"
   ]
  },
  {
   "cell_type": "code",
   "execution_count": 7,
   "metadata": {},
   "outputs": [],
   "source": [
    "# Trim\n",
    "def trim(wavdata,trimperiod):\n",
    "    z = []\n",
    "    dn = wavdata['data']\n",
    "    i=1\n",
    "    while dn[i]*dn[i-1]>0:\n",
    "        i += 1\n",
    "    periods = (len(dn)-i)//trimperiod\n",
    "    return {'params':wavdata['params'], 'data':dn[i:i+periods*trimperiod]}"
   ]
  },
  {
   "cell_type": "code",
   "execution_count": 8,
   "metadata": {},
   "outputs": [],
   "source": [
    "# Normalize\n",
    "def normalize(wavdata):\n",
    "    bs = 1111\n",
    "    dataIn = wavdata['data']\n",
    "    decay = []\n",
    "    n = len(dataIn)//bs\n",
    "    for i in range(n):\n",
    "        decay.append(abs(np.array(dataIn[i*bs:(i+1)*bs])).mean())\n",
    "    X = np.array([bs*k for k in range(n)])\n",
    "    Y = np.array([math.log(decay[j]) for j in range(n)])\n",
    "    sumX = X.sum()\n",
    "    sumY = Y.sum()\n",
    "    sumX2 = (X**2).sum()\n",
    "    sumY2 = (Y**2).sum()\n",
    "    sumXY = (X*Y).sum()\n",
    "    den = n*sumX2 - sumX**2\n",
    "    b = (sumY*sumX2 - sumX*sumXY)/den\n",
    "    m = (n*sumXY-sumX*sumY)/den\n",
    "    return {'params':wavdata['params'], 'data':[dataIn[j]*math.exp(-m*j) for j in range(len(dataIn))]}"
   ]
  },
  {
   "cell_type": "code",
   "execution_count": 9,
   "metadata": {},
   "outputs": [],
   "source": [
    "# Set average volume (amplitudes) equal\n",
    "def meter(fromthisone,tothisone):\n",
    "    w_in = readWav(fromthisone)\n",
    "    wout = readWav(tothisone)\n",
    "    avg_in = abs(np.array(w_in['data'])).mean()\n",
    "    avgout = abs(np.array(wout['data'])).mean()\n",
    "    ratio = avg_in/avgout\n",
    "    if (ratio<0.9) or (ratio>1.1):\n",
    "        print(\"Amplifying\",tothisone+'.wav',\"by a factor of\",ratio)\n",
    "        writeWav({'params':wout['params'],'data':ratio*np.array(wout['data'])} ,tothisone+\"-amplified\")\n",
    "    else:\n",
    "        print(\"Volume ratio\",fromthisone+\":\"+tothisone,\"equals\",ratio,\"-- nothing to do.\")"
   ]
  },
  {
   "cell_type": "code",
   "execution_count": 10,
   "metadata": {},
   "outputs": [],
   "source": [
    "# Add repeats\n",
    "def addrepeats(wav,number):\n",
    "    w_in = readWav(wav)\n",
    "    writeWav({'params':w_in['params'],'data':w_in['data']*number} ,wav+\"-\"+str(number)+\"-repeats\")"
   ]
  },
  {
   "cell_type": "code",
   "execution_count": 11,
   "metadata": {},
   "outputs": [],
   "source": [
    "def bodesrule(f):\n",
    "    return (7*(f[0]+f[4])+32*(f[1]+f[3])+12*f[2])/22.5\n",
    "def simpsons38(f):\n",
    "    return (f[0]+f[3]++3*(f[1]+f[2]))*.375\n",
    "def simpsons(f):\n",
    "    return (f[0]+4*f[1]+f[2])/3\n",
    "def trapezoidal(f):\n",
    "    return (f[0]+f[1])*.5\n",
    "def integrate(g):\n",
    "    bodes = (len(g)-1)//4\n",
    "    i = 0\n",
    "    ans = 0\n",
    "    for j in range(bodes):\n",
    "        ans += bodesrule(g[i:i+5])\n",
    "        i += 4\n",
    "    leftover = len(g)-4*bodes\n",
    "    k = 4*bodes\n",
    "    if leftover==2:\n",
    "        ans += trapezoidal(g[k:])\n",
    "    elif leftover==3:\n",
    "        ans += simpsons(g[k:])\n",
    "    elif leftover==4:\n",
    "        ans += simpsons38(g[k:])\n",
    "    return ans"
   ]
  },
  {
   "cell_type": "code",
   "execution_count": 19,
   "metadata": {},
   "outputs": [],
   "source": [
    "# Compute Fourier coefficients\n",
    "def FourierCoefficients(wavdata,harmonics):\n",
    "    l = len(wavdata['data'])\n",
    "    Fc = [l-1]\n",
    "    for i in harmonics:\n",
    "        omega = math.pi*i/(l-1)\n",
    "        f = [wavdata['data'][j]*math.sin(omega*j) for j in range(l)]\n",
    "        Fc.append(integrate(f)*2/(l-1))\n",
    "        if i%1000==0:\n",
    "            print(str(i),\"harmonics calculated...\")\n",
    "    return Fc"
   ]
  },
  {
   "cell_type": "code",
   "execution_count": 13,
   "metadata": {},
   "outputs": [],
   "source": [
    "# Synthetic Reproduction\n",
    "def reproduce(fc,whichOfTop,startdata):\n",
    "    fcz = [0]+fc[1:]\n",
    "    best = np.flip(np.argsort(abs(np.array(fcz))))\n",
    "    l = len(startdata)\n",
    "    for i in whichOfTop:\n",
    "        k = best[i]\n",
    "        omega = math.pi*k/(l-1)\n",
    "        for j in range(l):\n",
    "            startdata[j] += fc[best[i]]*math.sin(omega*j)\n",
    "        if i%1000==0:\n",
    "            print(\"Top harmonic \"+str(i)+\" reproduced...\")\n",
    "    return startdata"
   ]
  },
  {
   "cell_type": "code",
   "execution_count": 20,
   "metadata": {},
   "outputs": [
    {
     "name": "stdout",
     "output_type": "stream",
     "text": [
      "************************\n",
      "../sounds/ding-medium-2-cycles 1.7041204615269103 121\n",
      "************************\n",
      "************************\n",
      "../sounds/e 1.847531909514848 250\n",
      "************************\n",
      "************************\n",
      "../sounds/h 1.8208291050739267 219\n",
      "************************\n",
      "************************\n",
      "../sounds/bird1 2.8596352928291346 12787\n",
      "************************\n",
      "1000 harmonics calculated...\n",
      "2000 harmonics calculated...\n",
      "3000 harmonics calculated...\n",
      "4000 harmonics calculated...\n",
      "5000 harmonics calculated...\n",
      "6000 harmonics calculated...\n",
      "7000 harmonics calculated...\n",
      "8000 harmonics calculated...\n",
      "9000 harmonics calculated...\n",
      "10000 harmonics calculated...\n",
      "11000 harmonics calculated...\n",
      "12000 harmonics calculated...\n",
      "************************\n",
      "../sounds/boilingwater 2.9442302843838255 16624\n",
      "************************\n",
      "1000 harmonics calculated...\n",
      "2000 harmonics calculated...\n",
      "3000 harmonics calculated...\n",
      "4000 harmonics calculated...\n",
      "5000 harmonics calculated...\n",
      "6000 harmonics calculated...\n",
      "7000 harmonics calculated...\n",
      "8000 harmonics calculated...\n",
      "9000 harmonics calculated...\n",
      "10000 harmonics calculated...\n",
      "11000 harmonics calculated...\n",
      "12000 harmonics calculated...\n",
      "13000 harmonics calculated...\n",
      "14000 harmonics calculated...\n",
      "15000 harmonics calculated...\n",
      "16000 harmonics calculated...\n",
      "************************\n",
      "../sounds/ding-large 2.963326666824909 17620\n",
      "************************\n",
      "1000 harmonics calculated...\n",
      "2000 harmonics calculated...\n",
      "3000 harmonics calculated...\n",
      "4000 harmonics calculated...\n",
      "5000 harmonics calculated...\n",
      "6000 harmonics calculated...\n",
      "7000 harmonics calculated...\n",
      "8000 harmonics calculated...\n",
      "9000 harmonics calculated...\n",
      "10000 harmonics calculated...\n",
      "11000 harmonics calculated...\n",
      "12000 harmonics calculated...\n",
      "13000 harmonics calculated...\n",
      "14000 harmonics calculated...\n",
      "15000 harmonics calculated...\n",
      "16000 harmonics calculated...\n",
      "17000 harmonics calculated...\n",
      "************************\n",
      "../sounds/ding-medium 2.9626308866520827 17583\n",
      "************************\n",
      "1000 harmonics calculated...\n",
      "2000 harmonics calculated...\n",
      "3000 harmonics calculated...\n",
      "4000 harmonics calculated...\n",
      "5000 harmonics calculated...\n",
      "6000 harmonics calculated...\n",
      "7000 harmonics calculated...\n",
      "8000 harmonics calculated...\n",
      "9000 harmonics calculated...\n",
      "10000 harmonics calculated...\n",
      "11000 harmonics calculated...\n",
      "12000 harmonics calculated...\n",
      "13000 harmonics calculated...\n",
      "14000 harmonics calculated...\n",
      "15000 harmonics calculated...\n",
      "16000 harmonics calculated...\n",
      "17000 harmonics calculated...\n",
      "************************\n",
      "../sounds/ding-small 2.9635396284055315 17631\n",
      "************************\n",
      "1000 harmonics calculated...\n",
      "2000 harmonics calculated...\n",
      "3000 harmonics calculated...\n",
      "4000 harmonics calculated...\n",
      "5000 harmonics calculated...\n",
      "6000 harmonics calculated...\n",
      "7000 harmonics calculated...\n",
      "8000 harmonics calculated...\n",
      "9000 harmonics calculated...\n",
      "10000 harmonics calculated...\n",
      "11000 harmonics calculated...\n",
      "12000 harmonics calculated...\n",
      "13000 harmonics calculated...\n",
      "14000 harmonics calculated...\n",
      "15000 harmonics calculated...\n",
      "16000 harmonics calculated...\n",
      "17000 harmonics calculated...\n",
      "************************\n",
      "../sounds/hello 2.4753161470842286 3488\n",
      "************************\n",
      "1000 harmonics calculated...\n",
      "2000 harmonics calculated...\n",
      "3000 harmonics calculated...\n",
      "************************\n",
      "../sounds/LinearAlgebraRules 2.933666277259257 16095\n",
      "************************\n",
      "1000 harmonics calculated...\n",
      "2000 harmonics calculated...\n",
      "3000 harmonics calculated...\n",
      "4000 harmonics calculated...\n",
      "5000 harmonics calculated...\n",
      "6000 harmonics calculated...\n",
      "7000 harmonics calculated...\n",
      "8000 harmonics calculated...\n",
      "9000 harmonics calculated...\n",
      "10000 harmonics calculated...\n",
      "11000 harmonics calculated...\n",
      "12000 harmonics calculated...\n",
      "13000 harmonics calculated...\n",
      "14000 harmonics calculated...\n",
      "15000 harmonics calculated...\n",
      "16000 harmonics calculated...\n",
      "************************\n",
      "../sounds/nail1 2.7425254476708854 8777\n",
      "************************\n",
      "1000 harmonics calculated...\n",
      "2000 harmonics calculated...\n",
      "3000 harmonics calculated...\n",
      "4000 harmonics calculated...\n",
      "5000 harmonics calculated...\n",
      "6000 harmonics calculated...\n",
      "7000 harmonics calculated...\n",
      "8000 harmonics calculated...\n"
     ]
    }
   ],
   "source": [
    "soundnames = ['ding-medium-2-cycles','e','h','bird1','boilingwater','ding-large','ding-medium','ding-small',\n",
    "              'hello','LinearAlgebraRules','nail1']\n",
    "path = \"../sounds/\"\n",
    "filenames = [path+s for s in soundnames]\n",
    "for base in filenames:\n",
    "    w = readWav(base)\n",
    "    z = zeros(w)\n",
    "    t = {'params':w['params'], 'data':w['data'][z[0]:z[len(z)-1]+1]}\n",
    "    l = len(t['data'])\n",
    "    b = (min([l/5,22000]))**(1/9)\n",
    "    tops = [0]+[int(b**k) for k in range(10)]\n",
    "    print('************************')\n",
    "    print(base,b,tops[-1])\n",
    "    print('************************')\n",
    "    fc = FourierCoefficients(t,range(1,tops[-1]))\n",
    "    writeArray(t['data'],base+'-trim')\n",
    "    writeWav(t,base+'-trim')\n",
    "    writeCoeffs(fc,base+'-FourierCoefficients')\n",
    "    synthetic = [0]*len(t['data'])\n",
    "    \"\"\"\n",
    "    for k in range(len(tops)-1):\n",
    "        synthetic = reproduce(fc,range(tops[k],tops[k+1]),synthetic)\n",
    "        name = base+'fourier'+str(tops[k+1])\n",
    "        writeArray(synthetic,name)\n",
    "        writeWav({'params':t['params'], 'data':synthetic},name)\"\"\""
   ]
  },
  {
   "cell_type": "code",
   "execution_count": 15,
   "metadata": {},
   "outputs": [
    {
     "data": {
      "text/plain": [
       "\"\\nbasename = 'LinearAlgebraRules'\\nnumbers = [1,2,8,25,74,217,637,1870,5486,16095]\\nfor n in numbers:\\n    meter(basename,basename+'fourier'+str(n))\\n\""
      ]
     },
     "execution_count": 15,
     "metadata": {},
     "output_type": "execute_result"
    }
   ],
   "source": [
    "# Adjust volumes\n",
    "'''\n",
    "basename = 'LinearAlgebraRules'\n",
    "numbers = [1,2,8,25,74,217,637,1870,5486,16095]\n",
    "for n in numbers:\n",
    "    meter(basename,basename+'fourier'+str(n))\n",
    "'''"
   ]
  },
  {
   "cell_type": "code",
   "execution_count": 16,
   "metadata": {},
   "outputs": [
    {
     "data": {
      "text/plain": [
       "\"\\nnum = [1,2,6,15,37]\\nnum = [92,230,569,1409,3488]\\nreps = 3\\nfor n in num:\\n    bn = 'hellofourier'+str(n)\\n    addrepeats(bn,reps)\\n\""
      ]
     },
     "execution_count": 16,
     "metadata": {},
     "output_type": "execute_result"
    }
   ],
   "source": [
    "'''\n",
    "num = [1,2,6,15,37]\n",
    "num = [92,230,569,1409,3488]\n",
    "reps = 3\n",
    "for n in num:\n",
    "    bn = 'hellofourier'+str(n)\n",
    "    addrepeats(bn,reps)\n",
    "'''"
   ]
  },
  {
   "cell_type": "code",
   "execution_count": null,
   "metadata": {},
   "outputs": [],
   "source": []
  }
 ],
 "metadata": {
  "kernelspec": {
   "display_name": "Python 3",
   "language": "python",
   "name": "python3"
  },
  "language_info": {
   "codemirror_mode": {
    "name": "ipython",
    "version": 3
   },
   "file_extension": ".py",
   "mimetype": "text/x-python",
   "name": "python",
   "nbconvert_exporter": "python",
   "pygments_lexer": "ipython3",
   "version": "3.8.5"
  }
 },
 "nbformat": 4,
 "nbformat_minor": 4
}
