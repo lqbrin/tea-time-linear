{
 "cells": [
  {
   "cell_type": "code",
   "execution_count": 1,
   "metadata": {},
   "outputs": [],
   "source": [
    "import wave\n",
    "import numpy as np\n",
    "import math\n",
    "import random\n",
    "\n",
    "def getData(file):\n",
    "    if file.getnchannels() == 2:\n",
    "        my_bytes = file.readframes(1)\n",
    "        left = int.from_bytes(my_bytes[:file.getsampwidth()], byteorder='little', signed=True)\n",
    "        right = int.from_bytes(my_bytes[file.getsampwidth():], byteorder='little', signed=True)\n",
    "        return (left/2) + (right/2)\n",
    "    else:\n",
    "        return int.from_bytes(file.readframes(1), byteorder='little', signed=True)\n",
    "# Read WAV file\n",
    "def readWav(bn):\n",
    "    w = wave.open(bn+\".wav\",'rb')\n",
    "    parIn = w.getparams()\n",
    "    dataIn = []\n",
    "    for i in range(parIn.nframes):\n",
    "        dataIn.append(getData(w))\n",
    "    w.close()\n",
    "    return {'params':parIn, 'data':dataIn}\n",
    "# Write WAV audio file\n",
    "# Export amplitudes to text file\n",
    "def writeWav(wd,bn):\n",
    "    w = wave.open(bn+\".wav\",\"wb\")\n",
    "    t = open(bn+\".txt\",\"w\")\n",
    "    w.setparams(wd['params'])\n",
    "    for i in range(len(wd['data'])):\n",
    "        o = int(wd['data'][i])\n",
    "        #if abs(o)>=16**wd['params'].sampwidth:\n",
    "            #o = 16**wd['params'].sampwidth-1\n",
    "        bts = o.to_bytes(wd['params'].sampwidth,\"little\",signed=True)\n",
    "        w.writeframes(bts+bts)\n",
    "        t.write(str(o)+\"\\n\")\n",
    "    w.close()\n",
    "    t.close()"
   ]
  },
  {
   "cell_type": "code",
   "execution_count": 2,
   "metadata": {},
   "outputs": [],
   "source": [
    "# Set average volume (amplitudes) equal\n",
    "def meter(fromthisone,tothisone):\n",
    "    w_in = readWav(fromthisone)\n",
    "    wout = readWav(tothisone)\n",
    "    avg_in = abs(np.array(w_in['data'])).mean()\n",
    "    avgout = abs(np.array(wout['data'])).mean()\n",
    "    ratio = avg_in/avgout\n",
    "    if (ratio<0.9) or (ratio>1.1):\n",
    "        print(\"Amplifying\",tothisone+'.wav',\"by a factor of\",ratio)\n",
    "        writeWav({'params':wout['params'],'data':ratio*np.array(wout['data'])} ,tothisone+\"-amplified\")\n",
    "    else:\n",
    "        print(\"Volume ratio\",fromthisone+\":\"+tothisone,\"equals\",ratio,\"-- nothing to do.\")"
   ]
  },
  {
   "cell_type": "code",
   "execution_count": 7,
   "metadata": {},
   "outputs": [
    {
     "name": "stdout",
     "output_type": "stream",
     "text": [
      "Volume ratio ding-small:ding-smallfourier1 equals 1.00879487629176 -- nothing to do.\n",
      "Volume ratio ding-small:ding-smallfourier2 equals 0.9893495883015433 -- nothing to do.\n",
      "Volume ratio ding-small:ding-smallfourier8 equals 1.002423515763938 -- nothing to do.\n",
      "Volume ratio ding-small:ding-smallfourier26 equals 1.0008264360052783 -- nothing to do.\n",
      "Volume ratio ding-small:ding-smallfourier77 equals 1.0006100036276946 -- nothing to do.\n",
      "Volume ratio ding-small:ding-smallfourier228 equals 1.0004693117155077 -- nothing to do.\n",
      "Volume ratio ding-small:ding-smallfourier677 equals 1.000419708363585 -- nothing to do.\n",
      "Volume ratio ding-small:ding-smallfourier2007 equals 1.0004888861606245 -- nothing to do.\n",
      "Volume ratio ding-small:ding-smallfourier5949 equals 1.0004775447760474 -- nothing to do.\n",
      "Volume ratio ding-small:ding-smallfourier17631 equals 1.00048057496617 -- nothing to do.\n"
     ]
    }
   ],
   "source": [
    "basename = 'LinearAlgebraRules'\n",
    "numbers = [1,2,8,26,77,228,677,2007,5949,17631]\n",
    "for n in numbers:\n",
    "    meter(basename,basename+'fourier'+str(n))"
   ]
  },
  {
   "cell_type": "code",
   "execution_count": null,
   "metadata": {},
   "outputs": [],
   "source": []
  }
 ],
 "metadata": {
  "kernelspec": {
   "display_name": "Python 3",
   "language": "python",
   "name": "python3"
  },
  "language_info": {
   "codemirror_mode": {
    "name": "ipython",
    "version": 3
   },
   "file_extension": ".py",
   "mimetype": "text/x-python",
   "name": "python",
   "nbconvert_exporter": "python",
   "pygments_lexer": "ipython3",
   "version": "3.8.5"
  }
 },
 "nbformat": 4,
 "nbformat_minor": 4
}
